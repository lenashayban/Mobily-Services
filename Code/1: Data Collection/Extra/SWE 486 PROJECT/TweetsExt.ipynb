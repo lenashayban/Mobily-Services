{
 "cells": [
  {
   "cell_type": "code",
   "execution_count": null,
   "id": "43e22c25",
   "metadata": {},
   "outputs": [],
   "source": [
    "import tweepy\n",
    "import pandas as pd\n",
    "import numpy as np\n",
    "\n",
    "from IPython.display import display"
   ]
  },
  {
   "cell_type": "code",
   "execution_count": null,
   "id": "1b9d0f54",
   "metadata": {},
   "outputs": [],
   "source": [
    "# import access keys:\n",
    "from credentials import *\n",
    "\n",
    "# api's set up:\n",
    "def twitter_setup():\n",
    "    \n",
    "    # authentication and access using keys:\n",
    "    auth = tweepy.OAuthHandler(CONSUMER_KEY, CONSUMER_SECRET)\n",
    "    auth.set_access_token(ACCESS_TOKEN, ACCESS_SECRET)\n",
    "    \n",
    "    # return api with authentication: \n",
    "    api = tweepy.API(auth)\n",
    "    return api"
   ]
  },
  {
   "cell_type": "code",
   "execution_count": 34,
   "id": "a9258982",
   "metadata": {},
   "outputs": [],
   "source": [
    "api = twitter_setup()\n",
    "\n",
    "# define the search sentences \n",
    "sentence1 = \"@Mobily1100\""
   ]
  },
  {
   "cell_type": "code",
   "execution_count": 5,
   "id": "8cb86c2d",
   "metadata": {},
   "outputs": [
    {
     "ename": "NameError",
     "evalue": "name 'tweepy' is not defined",
     "output_type": "error",
     "traceback": [
      "\u001b[0;31m---------------------------------------------------------------------------\u001b[0m",
      "\u001b[0;31mNameError\u001b[0m                                 Traceback (most recent call last)",
      "\u001b[0;32m/var/folders/gk/d3hkzzlx6894v09b84h_3fdw0000gn/T/ipykernel_33896/30476210.py\u001b[0m in \u001b[0;36m<module>\u001b[0;34m\u001b[0m\n\u001b[1;32m      1\u001b[0m \u001b[0;31m# collect tweets\u001b[0m\u001b[0;34m\u001b[0m\u001b[0;34m\u001b[0m\u001b[0m\n\u001b[0;32m----> 2\u001b[0;31m tweets = tweepy.Cursor(api.search_tweets,\n\u001b[0m\u001b[1;32m      3\u001b[0m               q=sentence1).items(5000)\n\u001b[1;32m      4\u001b[0m \u001b[0;34m\u001b[0m\u001b[0m\n\u001b[1;32m      5\u001b[0m \u001b[0mdataFrame1\u001b[0m \u001b[0;34m=\u001b[0m \u001b[0mpd\u001b[0m\u001b[0;34m.\u001b[0m\u001b[0mDataFrame\u001b[0m\u001b[0;34m(\u001b[0m\u001b[0mdata\u001b[0m \u001b[0;34m=\u001b[0m \u001b[0;34m[\u001b[0m\u001b[0;34m[\u001b[0m\u001b[0mtweet\u001b[0m\u001b[0;34m.\u001b[0m\u001b[0mtext\u001b[0m\u001b[0;34m,\u001b[0m \u001b[0mtweet\u001b[0m\u001b[0;34m.\u001b[0m\u001b[0mid\u001b[0m\u001b[0;34m,\u001b[0m \u001b[0mtweet\u001b[0m\u001b[0;34m.\u001b[0m\u001b[0muser\u001b[0m\u001b[0;34m.\u001b[0m\u001b[0mscreen_name\u001b[0m\u001b[0;34m,\u001b[0m\u001b[0mtweet\u001b[0m\u001b[0;34m.\u001b[0m\u001b[0muser\u001b[0m\u001b[0;34m.\u001b[0m\u001b[0mlocation\u001b[0m\u001b[0;34m,\u001b[0m\u001b[0mtweet\u001b[0m\u001b[0;34m.\u001b[0m\u001b[0mcreated_at\u001b[0m\u001b[0;34m,\u001b[0m\u001b[0mtweet\u001b[0m\u001b[0;34m.\u001b[0m\u001b[0mfavorite_count\u001b[0m\u001b[0;34m,\u001b[0m\u001b[0mtweet\u001b[0m\u001b[0;34m.\u001b[0m\u001b[0mretweet_count\u001b[0m\u001b[0;34m]\u001b[0m \u001b[0;32mfor\u001b[0m \u001b[0mtweet\u001b[0m \u001b[0;32min\u001b[0m \u001b[0mtweets\u001b[0m\u001b[0;34m]\u001b[0m\u001b[0;34m,\u001b[0m \u001b[0mcolumns\u001b[0m\u001b[0;34m=\u001b[0m\u001b[0;34m[\u001b[0m\u001b[0;34m'Tweet'\u001b[0m\u001b[0;34m,\u001b[0m\u001b[0;34m'ID'\u001b[0m\u001b[0;34m,\u001b[0m\u001b[0;34m'User'\u001b[0m\u001b[0;34m,\u001b[0m\u001b[0;34m'Location'\u001b[0m\u001b[0;34m,\u001b[0m\u001b[0;34m'Date'\u001b[0m\u001b[0;34m,\u001b[0m\u001b[0;34m'Likes'\u001b[0m\u001b[0;34m,\u001b[0m\u001b[0;34m'Retweets'\u001b[0m\u001b[0;34m]\u001b[0m\u001b[0;34m)\u001b[0m\u001b[0;34m\u001b[0m\u001b[0;34m\u001b[0m\u001b[0m\n",
      "\u001b[0;31mNameError\u001b[0m: name 'tweepy' is not defined"
     ]
    }
   ],
   "source": [
    "# collect tweets\n",
    "tweets = tweepy.Cursor(api.search_tweets,\n",
    "              q=sentence1).items(5000)\n",
    "\n",
    "dataFrame1 = pd.DataFrame(data = [[tweet.text, tweet.id, tweet.user.screen_name,tweet.user.location,tweet.created_at,tweet.favorite_count,tweet.retweet_count] for tweet in tweets], columns=['Tweet','ID','User','Location','Date','Likes','Retweets'])"
   ]
  },
  {
   "cell_type": "code",
   "execution_count": 33,
   "id": "7d567db4",
   "metadata": {},
   "outputs": [
    {
     "data": {
      "text/html": [
       "<div>\n",
       "<style scoped>\n",
       "    .dataframe tbody tr th:only-of-type {\n",
       "        vertical-align: middle;\n",
       "    }\n",
       "\n",
       "    .dataframe tbody tr th {\n",
       "        vertical-align: top;\n",
       "    }\n",
       "\n",
       "    .dataframe thead th {\n",
       "        text-align: right;\n",
       "    }\n",
       "</style>\n",
       "<table border=\"1\" class=\"dataframe\">\n",
       "  <thead>\n",
       "    <tr style=\"text-align: right;\">\n",
       "      <th></th>\n",
       "      <th>Tweet</th>\n",
       "      <th>ID</th>\n",
       "      <th>User</th>\n",
       "      <th>Location</th>\n",
       "      <th>Date</th>\n",
       "      <th>Likes</th>\n",
       "      <th>Retweets</th>\n",
       "    </tr>\n",
       "  </thead>\n",
       "  <tbody>\n",
       "    <tr>\n",
       "      <th>655</th>\n",
       "      <td>@ahmedalkhalifha احد اهم الاسباب اللي تخلي الب...</td>\n",
       "      <td>1494625064221872135</td>\n",
       "      <td>daliaf22</td>\n",
       "      <td>Riyadh</td>\n",
       "      <td>2022-02-18 10:49:18+00:00</td>\n",
       "      <td>3</td>\n",
       "      <td>0</td>\n",
       "    </tr>\n",
       "    <tr>\n",
       "      <th>656</th>\n",
       "      <td>2. تنمية المدخرات: تنمية رأس المال عن طريق الا...</td>\n",
       "      <td>1494620799289937921</td>\n",
       "      <td>getbaraka</td>\n",
       "      <td>United Arab Emirates</td>\n",
       "      <td>2022-02-18 10:32:21+00:00</td>\n",
       "      <td>4</td>\n",
       "      <td>1</td>\n",
       "    </tr>\n",
       "    <tr>\n",
       "      <th>657</th>\n",
       "      <td>RT @manayr_132: @noor_moe_sa1439 يفضل عن بعد ف...</td>\n",
       "      <td>1494619646326157315</td>\n",
       "      <td>alsamr22221</td>\n",
       "      <td></td>\n",
       "      <td>2022-02-18 10:27:47+00:00</td>\n",
       "      <td>0</td>\n",
       "      <td>1</td>\n",
       "    </tr>\n",
       "    <tr>\n",
       "      <th>658</th>\n",
       "      <td>@News_Ejazah دراسه عن بعد اكيد صح 😉</td>\n",
       "      <td>1494616509834010677</td>\n",
       "      <td>fahdfarg52</td>\n",
       "      <td>تبوك, المملكة العربية السعودية</td>\n",
       "      <td>2022-02-18 10:15:19+00:00</td>\n",
       "      <td>0</td>\n",
       "      <td>0</td>\n",
       "    </tr>\n",
       "    <tr>\n",
       "      <th>659</th>\n",
       "      <td>@ibr_919 وعليكم السلام، في حال تم إضافة تابع ب...</td>\n",
       "      <td>1494613934694932530</td>\n",
       "      <td>Citizen_care</td>\n",
       "      <td></td>\n",
       "      <td>2022-02-18 10:05:05+00:00</td>\n",
       "      <td>0</td>\n",
       "      <td>0</td>\n",
       "    </tr>\n",
       "  </tbody>\n",
       "</table>\n",
       "</div>"
      ],
      "text/plain": [
       "                                                 Tweet                   ID  \\\n",
       "655  @ahmedalkhalifha احد اهم الاسباب اللي تخلي الب...  1494625064221872135   \n",
       "656  2. تنمية المدخرات: تنمية رأس المال عن طريق الا...  1494620799289937921   \n",
       "657  RT @manayr_132: @noor_moe_sa1439 يفضل عن بعد ف...  1494619646326157315   \n",
       "658                @News_Ejazah دراسه عن بعد اكيد صح 😉  1494616509834010677   \n",
       "659  @ibr_919 وعليكم السلام، في حال تم إضافة تابع ب...  1494613934694932530   \n",
       "\n",
       "             User                        Location                      Date  \\\n",
       "655      daliaf22                          Riyadh 2022-02-18 10:49:18+00:00   \n",
       "656     getbaraka            United Arab Emirates 2022-02-18 10:32:21+00:00   \n",
       "657   alsamr22221                                 2022-02-18 10:27:47+00:00   \n",
       "658    fahdfarg52  تبوك, المملكة العربية السعودية 2022-02-18 10:15:19+00:00   \n",
       "659  Citizen_care                                 2022-02-18 10:05:05+00:00   \n",
       "\n",
       "     Likes  Retweets  \n",
       "655      3         0  \n",
       "656      4         1  \n",
       "657      0         1  \n",
       "658      0         0  \n",
       "659      0         0  "
      ]
     },
     "metadata": {},
     "output_type": "display_data"
    }
   ],
   "source": [
    "# Display tweets\n",
    "display(dataFrame1.tail())\n",
    "# Export tweets\n",
    "dataFrame1.to_csv(\"TweetsPhase1.csv\",index=False,encoding=\"utf-8-sig\")"
   ]
  },
  {
   "cell_type": "code",
   "execution_count": null,
   "id": "11acb92c",
   "metadata": {},
   "outputs": [],
   "source": []
  }
 ],
 "metadata": {
  "kernelspec": {
   "display_name": "Python 3 (ipykernel)",
   "language": "python",
   "name": "python3"
  },
  "language_info": {
   "codemirror_mode": {
    "name": "ipython",
    "version": 3
   },
   "file_extension": ".py",
   "mimetype": "text/x-python",
   "name": "python",
   "nbconvert_exporter": "python",
   "pygments_lexer": "ipython3",
   "version": "3.9.7"
  }
 },
 "nbformat": 4,
 "nbformat_minor": 5
}
